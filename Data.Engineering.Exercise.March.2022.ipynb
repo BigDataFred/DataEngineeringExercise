{
 "cells": [
  {
   "cell_type": "markdown",
   "id": "ab44d6c5",
   "metadata": {},
   "source": [
    "# DataEngineeringExercise"
   ]
  },
  {
   "cell_type": "code",
   "execution_count": 1,
   "id": "ab7fffd1",
   "metadata": {},
   "outputs": [],
   "source": [
    "import pandas as pd\n",
    "import requests"
   ]
  },
  {
   "cell_type": "markdown",
   "id": "0abc84cc",
   "metadata": {},
   "source": [
    "### Importing the data into notebook"
   ]
  },
  {
   "cell_type": "code",
   "execution_count": 5,
   "id": "82b67c74",
   "metadata": {},
   "outputs": [],
   "source": [
    "fname='/Users/froux/DataEngineeringExercise/patients.csv'"
   ]
  },
  {
   "cell_type": "code",
   "execution_count": 8,
   "id": "6a844ab0",
   "metadata": {},
   "outputs": [],
   "source": [
    "pat2drug = pd.read_csv(\n",
    "    fname,\n",
    "    sep=','\n",
    ")"
   ]
  },
  {
   "cell_type": "code",
   "execution_count": 10,
   "id": "1b4e45ac",
   "metadata": {},
   "outputs": [
    {
     "name": "stdout",
     "output_type": "stream",
     "text": [
      "(248969, 2)\n"
     ]
    }
   ],
   "source": [
    "print(pat2drug.shape)"
   ]
  },
  {
   "cell_type": "code",
   "execution_count": 413,
   "id": "a123b297",
   "metadata": {},
   "outputs": [
    {
     "data": {
      "text/plain": [
       "11223"
      ]
     },
     "execution_count": 413,
     "metadata": {},
     "output_type": "execute_result"
    }
   ],
   "source": [
    "# number of unique NDCs\n",
    "len(pat2drug['ndc_number'].unique())"
   ]
  },
  {
   "cell_type": "code",
   "execution_count": 414,
   "id": "91f97817",
   "metadata": {},
   "outputs": [
    {
     "data": {
      "text/plain": [
       "19999"
      ]
     },
     "execution_count": 414,
     "metadata": {},
     "output_type": "execute_result"
    }
   ],
   "source": [
    "# number of unique patient IDs\n",
    "len(pat2drug['patient_id'].unique())"
   ]
  },
  {
   "cell_type": "code",
   "execution_count": 11,
   "id": "a5df33e7",
   "metadata": {},
   "outputs": [
    {
     "data": {
      "text/html": [
       "<div>\n",
       "<style scoped>\n",
       "    .dataframe tbody tr th:only-of-type {\n",
       "        vertical-align: middle;\n",
       "    }\n",
       "\n",
       "    .dataframe tbody tr th {\n",
       "        vertical-align: top;\n",
       "    }\n",
       "\n",
       "    .dataframe thead th {\n",
       "        text-align: right;\n",
       "    }\n",
       "</style>\n",
       "<table border=\"1\" class=\"dataframe\">\n",
       "  <thead>\n",
       "    <tr style=\"text-align: right;\">\n",
       "      <th></th>\n",
       "      <th>patient_id</th>\n",
       "      <th>ndc_number</th>\n",
       "    </tr>\n",
       "  </thead>\n",
       "  <tbody>\n",
       "    <tr>\n",
       "      <th>0</th>\n",
       "      <td>1</td>\n",
       "      <td>527134301</td>\n",
       "    </tr>\n",
       "    <tr>\n",
       "      <th>1</th>\n",
       "      <td>1</td>\n",
       "      <td>378180510</td>\n",
       "    </tr>\n",
       "    <tr>\n",
       "      <th>2</th>\n",
       "      <td>1</td>\n",
       "      <td>68180075103</td>\n",
       "    </tr>\n",
       "    <tr>\n",
       "      <th>3</th>\n",
       "      <td>1</td>\n",
       "      <td>64380080306</td>\n",
       "    </tr>\n",
       "    <tr>\n",
       "      <th>4</th>\n",
       "      <td>1</td>\n",
       "      <td>49281040365</td>\n",
       "    </tr>\n",
       "    <tr>\n",
       "      <th>5</th>\n",
       "      <td>1</td>\n",
       "      <td>115552202</td>\n",
       "    </tr>\n",
       "    <tr>\n",
       "      <th>6</th>\n",
       "      <td>1</td>\n",
       "      <td>68180075009</td>\n",
       "    </tr>\n",
       "    <tr>\n",
       "      <th>7</th>\n",
       "      <td>1</td>\n",
       "      <td>781279001</td>\n",
       "    </tr>\n",
       "    <tr>\n",
       "      <th>8</th>\n",
       "      <td>1</td>\n",
       "      <td>68180046801</td>\n",
       "    </tr>\n",
       "    <tr>\n",
       "      <th>9</th>\n",
       "      <td>1</td>\n",
       "      <td>69097082507</td>\n",
       "    </tr>\n",
       "  </tbody>\n",
       "</table>\n",
       "</div>"
      ],
      "text/plain": [
       "   patient_id   ndc_number\n",
       "0           1    527134301\n",
       "1           1    378180510\n",
       "2           1  68180075103\n",
       "3           1  64380080306\n",
       "4           1  49281040365\n",
       "5           1    115552202\n",
       "6           1  68180075009\n",
       "7           1    781279001\n",
       "8           1  68180046801\n",
       "9           1  69097082507"
      ]
     },
     "metadata": {},
     "output_type": "display_data"
    }
   ],
   "source": [
    "display(pat2drug.head(10))"
   ]
  },
  {
   "cell_type": "code",
   "execution_count": null,
   "id": "9241e289",
   "metadata": {},
   "outputs": [],
   "source": [
    "any(pat2drug['ndc_number'] == 527134301)"
   ]
  },
  {
   "cell_type": "code",
   "execution_count": 40,
   "id": "48824757",
   "metadata": {},
   "outputs": [
    {
     "data": {
      "text/plain": [
       "array([ 9, 11,  8,  7, 10,  1])"
      ]
     },
     "execution_count": 40,
     "metadata": {},
     "output_type": "execute_result"
    }
   ],
   "source": [
    "pat2drug['ndc_number'].astype(str).apply(lambda x: len(x)).unique()"
   ]
  },
  {
   "cell_type": "code",
   "execution_count": 699,
   "id": "b2a2ebae",
   "metadata": {},
   "outputs": [
    {
     "data": {
      "text/plain": [
       "19999"
      ]
     },
     "execution_count": 699,
     "metadata": {},
     "output_type": "execute_result"
    }
   ],
   "source": [
    "len(pat2drug['patient_id'].unique())"
   ]
  },
  {
   "cell_type": "markdown",
   "id": "42675dbe",
   "metadata": {},
   "source": [
    "### Translate NDCs between 10- and 11-digit formats"
   ]
  },
  {
   "cell_type": "code",
   "execution_count": 338,
   "id": "1c5ea0bb",
   "metadata": {},
   "outputs": [],
   "source": [
    "def convert_ndc(ndc_number,ndigits):\n",
    "    \n",
    "    ndc_number = str(ndc_number)\n",
    "    ndc_out= None\n",
    "    \n",
    "    if (ndigits==11):\n",
    "        if (len(ndc_number)<11):\n",
    "            if (len(ndc_number)<10):\n",
    "                prefix = (10-len(ndc_number))*'0'\n",
    "                ndc_number = f'''{prefix}{ndc_number}'''\n",
    "        \n",
    "            if (ndc_number[0:3].find('0')==0):\n",
    "                ndc_out=f'''0{ndc_number[0:4]}-{ndc_number[4:8]}-{ndc_number[8:11]}'''\n",
    "            elif (ndc_number[5:8].find('0')==0):\n",
    "                ndc_out=f'''{ndc_number[0:5]}-0{ndc_number[5:8]}-{ndc_number[8:11]}'''  \n",
    "            else:\n",
    "                ndc_out=f'''{ndc_number[0:5]}-{ndc_number[5:9]}-0{ndc_number[9:11]}'''\n",
    "        else:\n",
    "            ndc_out=f'''{ndc_number[0:5]}-{ndc_number[5:9]}-{ndc_number[9:11]}'''\n",
    "        \n",
    "\n",
    "    if (ndigits==10):\n",
    "        \n",
    "        if (ndc_number.find('-')>-1):\n",
    "            raise Exception(\"Unexpected format detected\")\n",
    "        if (ndc_number[0:1].find('0')==0):\n",
    "            ndc_out=f'''{ndc_number[1:5]}-{ndc_number[5:9]}-{ndc_number[9:11]}'''\n",
    "        elif (ndc_number[5:6].find('0')==0):\n",
    "            ndc_out=f'''{ndc_number[0:5]}-{ndc_number[6:9]}-{ndc_number[9:11]}'''\n",
    "        else:\n",
    "            ndc_out=f'''{ndc_number[0:5]}-{ndc_number[5:9]}-{ndc_number[10:11]}'''\n",
    "\n",
    "    if (len(ndc_out)-2!=ndigits):\n",
    "        raise Exception(f'\"Output length {len(ndc_out)-2} does not match expected value {ndigits}\"')\n",
    "    \n",
    "    return(ndc_out)"
   ]
  },
  {
   "cell_type": "code",
   "execution_count": 339,
   "id": "1b51eacb",
   "metadata": {},
   "outputs": [
    {
     "data": {
      "text/plain": [
       "True"
      ]
     },
     "execution_count": 339,
     "metadata": {},
     "output_type": "execute_result"
    }
   ],
   "source": [
    "# unit testing using 11-digit format\n",
    "all([\n",
    "    convert_ndc(2759701,11) =='00002-7597-01',\n",
    "    convert_ndc(5024204062,11) =='50242-0040-62',\n",
    "    convert_ndc(6057541121,11) =='60575-4112-01',\n",
    "    convert_ndc(90999999999,11) =='90999-9999-99'\n",
    "])"
   ]
  },
  {
   "cell_type": "code",
   "execution_count": 340,
   "id": "1b169231",
   "metadata": {},
   "outputs": [
    {
     "data": {
      "text/plain": [
       "True"
      ]
     },
     "execution_count": 340,
     "metadata": {},
     "output_type": "execute_result"
    }
   ],
   "source": [
    "# unit testing using 10-digit format\n",
    "all([\n",
    "    convert_ndc('00002759701',10)=='0002-7597-01',\n",
    "    convert_ndc('60575411201',10)=='60575-4112-1',\n",
    "    convert_ndc('50242004062',10)=='50242-040-62']\n",
    ")"
   ]
  },
  {
   "cell_type": "markdown",
   "id": "e114e7ea",
   "metadata": {},
   "source": [
    "### Convert NDCs into 11- and 10-digit format values"
   ]
  },
  {
   "cell_type": "code",
   "execution_count": 341,
   "id": "45b814de",
   "metadata": {},
   "outputs": [],
   "source": [
    "# first convert into 11-digit format\n",
    "pat2drug['ndc_number_11'] = pat2drug['ndc_number'].apply(convert_ndc,args=[11])\n",
    "# then use 11-format to convert to 10-format\n",
    "pat2drug['ndc_number_10'] = pat2drug['ndc_number_11'].str.replace('-','').apply(convert_ndc,args=[10])"
   ]
  },
  {
   "cell_type": "code",
   "execution_count": 342,
   "id": "0303a079",
   "metadata": {},
   "outputs": [
    {
     "data": {
      "text/html": [
       "<div>\n",
       "<style scoped>\n",
       "    .dataframe tbody tr th:only-of-type {\n",
       "        vertical-align: middle;\n",
       "    }\n",
       "\n",
       "    .dataframe tbody tr th {\n",
       "        vertical-align: top;\n",
       "    }\n",
       "\n",
       "    .dataframe thead th {\n",
       "        text-align: right;\n",
       "    }\n",
       "</style>\n",
       "<table border=\"1\" class=\"dataframe\">\n",
       "  <thead>\n",
       "    <tr style=\"text-align: right;\">\n",
       "      <th></th>\n",
       "      <th>patient_id</th>\n",
       "      <th>ndc_number</th>\n",
       "      <th>ndc_number_11</th>\n",
       "      <th>ndc_number_10</th>\n",
       "    </tr>\n",
       "  </thead>\n",
       "  <tbody>\n",
       "    <tr>\n",
       "      <th>0</th>\n",
       "      <td>1</td>\n",
       "      <td>527134301</td>\n",
       "      <td>00527-1343-01</td>\n",
       "      <td>0527-1343-01</td>\n",
       "    </tr>\n",
       "    <tr>\n",
       "      <th>1</th>\n",
       "      <td>1</td>\n",
       "      <td>378180510</td>\n",
       "      <td>00378-1805-10</td>\n",
       "      <td>0378-1805-10</td>\n",
       "    </tr>\n",
       "    <tr>\n",
       "      <th>2</th>\n",
       "      <td>1</td>\n",
       "      <td>68180075103</td>\n",
       "      <td>68180-0751-03</td>\n",
       "      <td>68180-751-03</td>\n",
       "    </tr>\n",
       "    <tr>\n",
       "      <th>3</th>\n",
       "      <td>1</td>\n",
       "      <td>64380080306</td>\n",
       "      <td>64380-0803-06</td>\n",
       "      <td>64380-803-06</td>\n",
       "    </tr>\n",
       "    <tr>\n",
       "      <th>4</th>\n",
       "      <td>1</td>\n",
       "      <td>49281040365</td>\n",
       "      <td>49281-0403-65</td>\n",
       "      <td>49281-403-65</td>\n",
       "    </tr>\n",
       "  </tbody>\n",
       "</table>\n",
       "</div>"
      ],
      "text/plain": [
       "   patient_id   ndc_number  ndc_number_11 ndc_number_10\n",
       "0           1    527134301  00527-1343-01  0527-1343-01\n",
       "1           1    378180510  00378-1805-10  0378-1805-10\n",
       "2           1  68180075103  68180-0751-03  68180-751-03\n",
       "3           1  64380080306  64380-0803-06  64380-803-06\n",
       "4           1  49281040365  49281-0403-65  49281-403-65"
      ]
     },
     "metadata": {},
     "output_type": "display_data"
    }
   ],
   "source": [
    "display(pat2drug.head(5))"
   ]
  },
  {
   "cell_type": "markdown",
   "id": "34f0148e",
   "metadata": {},
   "source": [
    "### 1. How many patients have been prescribed a medication containing the active ingredient LEVODOPA?"
   ]
  },
  {
   "cell_type": "code",
   "execution_count": 393,
   "id": "5fcc35ba",
   "metadata": {},
   "outputs": [],
   "source": [
    "base_url=\"https://api.fda.gov/drug/ndc.json\""
   ]
  },
  {
   "cell_type": "code",
   "execution_count": 394,
   "id": "8580b4f2",
   "metadata": {},
   "outputs": [],
   "source": [
    "search_url=\"?search=active_ingredients.name:\\\"LEVODOPA\\\"&limit=1000\""
   ]
  },
  {
   "cell_type": "code",
   "execution_count": 395,
   "id": "e7160b2d",
   "metadata": {},
   "outputs": [],
   "source": [
    "query = f'''{base_url}{search_url}'''"
   ]
  },
  {
   "cell_type": "code",
   "execution_count": 396,
   "id": "7e86f363",
   "metadata": {},
   "outputs": [
    {
     "name": "stdout",
     "output_type": "stream",
     "text": [
      "https://api.fda.gov/drug/ndc.json?search=active_ingredients.name:\"LEVODOPA\"&limit=1000\n"
     ]
    }
   ],
   "source": [
    "print(query)"
   ]
  },
  {
   "cell_type": "code",
   "execution_count": 397,
   "id": "38510674",
   "metadata": {},
   "outputs": [],
   "source": [
    "response = requests.get(query)"
   ]
  },
  {
   "cell_type": "code",
   "execution_count": 398,
   "id": "a13a3cec",
   "metadata": {},
   "outputs": [],
   "source": [
    "leva_ndc = pd.DataFrame(\n",
    "    [pack['package_ndc'] for rec1 in response.json()['results'] for pack in rec1['packaging']],\n",
    "    columns=['ndc_number']\n",
    ")"
   ]
  },
  {
   "cell_type": "code",
   "execution_count": 399,
   "id": "8e1e9854",
   "metadata": {},
   "outputs": [
    {
     "data": {
      "text/plain": [
       "array([10])"
      ]
     },
     "execution_count": 399,
     "metadata": {},
     "output_type": "execute_result"
    }
   ],
   "source": [
    "# all NDCs for levadopa are in 10-format\n",
    "leva_ndc['ndc_number'].str.replace('-','').apply(len).unique()"
   ]
  },
  {
   "cell_type": "code",
   "execution_count": 400,
   "id": "921490d8",
   "metadata": {},
   "outputs": [],
   "source": [
    "# accordingly we convert levadopa NDCs to 11-format\n",
    "leva_ndc['ndc_number_11'] = leva_ndc['ndc_number'].str.replace('-','').astype(int).apply(convert_ndc,args=[11])"
   ]
  },
  {
   "cell_type": "code",
   "execution_count": 401,
   "id": "18cecc0e",
   "metadata": {},
   "outputs": [
    {
     "data": {
      "text/html": [
       "<div>\n",
       "<style scoped>\n",
       "    .dataframe tbody tr th:only-of-type {\n",
       "        vertical-align: middle;\n",
       "    }\n",
       "\n",
       "    .dataframe tbody tr th {\n",
       "        vertical-align: top;\n",
       "    }\n",
       "\n",
       "    .dataframe thead th {\n",
       "        text-align: right;\n",
       "    }\n",
       "</style>\n",
       "<table border=\"1\" class=\"dataframe\">\n",
       "  <thead>\n",
       "    <tr style=\"text-align: right;\">\n",
       "      <th></th>\n",
       "      <th>ndc_number</th>\n",
       "      <th>ndc_number_11</th>\n",
       "    </tr>\n",
       "  </thead>\n",
       "  <tbody>\n",
       "    <tr>\n",
       "      <th>0</th>\n",
       "      <td>51407-168-01</td>\n",
       "      <td>51407-1680-01</td>\n",
       "    </tr>\n",
       "    <tr>\n",
       "      <th>1</th>\n",
       "      <td>51407-168-05</td>\n",
       "      <td>51407-1680-05</td>\n",
       "    </tr>\n",
       "    <tr>\n",
       "      <th>2</th>\n",
       "      <td>0781-5625-01</td>\n",
       "      <td>00781-5625-01</td>\n",
       "    </tr>\n",
       "    <tr>\n",
       "      <th>3</th>\n",
       "      <td>63629-2357-1</td>\n",
       "      <td>63629-2357-01</td>\n",
       "    </tr>\n",
       "    <tr>\n",
       "      <th>4</th>\n",
       "      <td>51407-166-01</td>\n",
       "      <td>51407-1660-01</td>\n",
       "    </tr>\n",
       "  </tbody>\n",
       "</table>\n",
       "</div>"
      ],
      "text/plain": [
       "     ndc_number  ndc_number_11\n",
       "0  51407-168-01  51407-1680-01\n",
       "1  51407-168-05  51407-1680-05\n",
       "2  0781-5625-01  00781-5625-01\n",
       "3  63629-2357-1  63629-2357-01\n",
       "4  51407-166-01  51407-1660-01"
      ]
     },
     "execution_count": 401,
     "metadata": {},
     "output_type": "execute_result"
    }
   ],
   "source": [
    "leva_ndc.head(5)"
   ]
  },
  {
   "cell_type": "code",
   "execution_count": 403,
   "id": "4053d373",
   "metadata": {},
   "outputs": [
    {
     "data": {
      "text/plain": [
       "705"
      ]
     },
     "execution_count": 403,
     "metadata": {},
     "output_type": "execute_result"
    }
   ],
   "source": [
    "# return number of patients using levadopa \n",
    "pat2drug[pat2drug['ndc_number_11'].isin(leva_ndc['ndc_number_11'])].shape[0]"
   ]
  },
  {
   "cell_type": "code",
   "execution_count": 405,
   "id": "4f1a5dc3",
   "metadata": {},
   "outputs": [
    {
     "data": {
      "text/plain": [
       "705"
      ]
     },
     "execution_count": 405,
     "metadata": {},
     "output_type": "execute_result"
    }
   ],
   "source": [
    "# should be same as above\n",
    "pat2drug.merge(\n",
    "    leva_ndc,\n",
    "    on=['ndc_number_11']\n",
    ").shape[0]"
   ]
  },
  {
   "cell_type": "code",
   "execution_count": 649,
   "id": "446a8d5f",
   "metadata": {},
   "outputs": [
    {
     "name": "stdout",
     "output_type": "stream",
     "text": [
      "The number of patients prescribed with LEVODOPA active ingredient is 705\n"
     ]
    }
   ],
   "source": [
    "print(f\"\"\"The number of patients prescribed with LEVODOPA active ingredient is {pat2drug[pat2drug['ndc_number_11'].isin(leva_ndc['ndc_number_11'])].shape[0]}\"\"\")"
   ]
  },
  {
   "cell_type": "markdown",
   "id": "85f49974",
   "metadata": {},
   "source": [
    "### 2. How many of the ndc numbers/drug packages can't be found in FDA's database?"
   ]
  },
  {
   "cell_type": "code",
   "execution_count": 412,
   "id": "18899772",
   "metadata": {},
   "outputs": [
    {
     "data": {
      "text/plain": [
       "25881     0000-0000-00\n",
       "6973      0000-0000-00\n",
       "20044     0000-0000-00\n",
       "223409    0000-0000-00\n",
       "59390     0000-0000-00\n",
       "              ...     \n",
       "91252     99073-708-22\n",
       "246117    99073-708-22\n",
       "246590    99073-708-27\n",
       "248763    99207-464-30\n",
       "246722    99999-3340-1\n",
       "Name: ndc_number_10, Length: 248969, dtype: object"
      ]
     },
     "execution_count": 412,
     "metadata": {},
     "output_type": "execute_result"
    }
   ],
   "source": [
    "# inspect NDCs\n",
    "pat2drug['ndc_number_10'].sort_values()"
   ]
  },
  {
   "cell_type": "code",
   "execution_count": 423,
   "id": "e41b9c2c",
   "metadata": {},
   "outputs": [],
   "source": [
    "# helper function to build queries for each NDC\n",
    "def build_query(ndc_nr):\n",
    "    base_url=\"https://api.fda.gov/drug/ndc.json\"\n",
    "    search_url=f\"?search=packaging.package_ndc:\\\"{ndc_nr}\\\"&limit=1\"\n",
    "    query = f'''{base_url}{search_url}'''\n",
    "    return(query)"
   ]
  },
  {
   "cell_type": "code",
   "execution_count": 474,
   "id": "f08e15db",
   "metadata": {},
   "outputs": [],
   "source": [
    "# make a test\n",
    "query = build_query('51407-168-01')"
   ]
  },
  {
   "cell_type": "code",
   "execution_count": 475,
   "id": "e49eb14b",
   "metadata": {},
   "outputs": [
    {
     "name": "stdout",
     "output_type": "stream",
     "text": [
      "https://api.fda.gov/drug/ndc.json?search=packaging.package_ndc:\"51407-168-01\"&limit=1\n"
     ]
    }
   ],
   "source": [
    "print(query)"
   ]
  },
  {
   "cell_type": "code",
   "execution_count": 429,
   "id": "ad1b3e10",
   "metadata": {},
   "outputs": [],
   "source": [
    "ndc2fda = pd.DataFrame(\n",
    "    [\n",
    "        (ndc,requests.get(q).status_code==200) for ndc,q in zip(pd.Series(pat2drug['ndc_number_10'].unique()),pd.Series(pat2drug['ndc_number_10'].unique()).apply(build_query))\n",
    "    ],\n",
    "    columns=['ndc_number_10','fda_record']\n",
    ")"
   ]
  },
  {
   "cell_type": "code",
   "execution_count": 430,
   "id": "97757803",
   "metadata": {},
   "outputs": [
    {
     "data": {
      "text/html": [
       "<div>\n",
       "<style scoped>\n",
       "    .dataframe tbody tr th:only-of-type {\n",
       "        vertical-align: middle;\n",
       "    }\n",
       "\n",
       "    .dataframe tbody tr th {\n",
       "        vertical-align: top;\n",
       "    }\n",
       "\n",
       "    .dataframe thead th {\n",
       "        text-align: right;\n",
       "    }\n",
       "</style>\n",
       "<table border=\"1\" class=\"dataframe\">\n",
       "  <thead>\n",
       "    <tr style=\"text-align: right;\">\n",
       "      <th></th>\n",
       "      <th>ndc_number_10</th>\n",
       "      <th>fda_record</th>\n",
       "    </tr>\n",
       "  </thead>\n",
       "  <tbody>\n",
       "    <tr>\n",
       "      <th>0</th>\n",
       "      <td>0527-1343-01</td>\n",
       "      <td>False</td>\n",
       "    </tr>\n",
       "    <tr>\n",
       "      <th>1</th>\n",
       "      <td>0378-1805-10</td>\n",
       "      <td>True</td>\n",
       "    </tr>\n",
       "    <tr>\n",
       "      <th>2</th>\n",
       "      <td>68180-751-03</td>\n",
       "      <td>False</td>\n",
       "    </tr>\n",
       "    <tr>\n",
       "      <th>3</th>\n",
       "      <td>64380-803-06</td>\n",
       "      <td>True</td>\n",
       "    </tr>\n",
       "    <tr>\n",
       "      <th>4</th>\n",
       "      <td>49281-403-65</td>\n",
       "      <td>False</td>\n",
       "    </tr>\n",
       "  </tbody>\n",
       "</table>\n",
       "</div>"
      ],
      "text/plain": [
       "  ndc_number_10  fda_record\n",
       "0  0527-1343-01       False\n",
       "1  0378-1805-10        True\n",
       "2  68180-751-03       False\n",
       "3  64380-803-06        True\n",
       "4  49281-403-65       False"
      ]
     },
     "metadata": {},
     "output_type": "display_data"
    }
   ],
   "source": [
    "display(ndc2fda.head(5))"
   ]
  },
  {
   "cell_type": "code",
   "execution_count": 432,
   "id": "1bf303a9",
   "metadata": {},
   "outputs": [
    {
     "name": "stdout",
     "output_type": "stream",
     "text": [
      "11222\n",
      "8765\n"
     ]
    }
   ],
   "source": [
    "print(ndc2fda.shape[0])\n",
    "\n",
    "# number of NDCs found in fda´s db\n",
    "print(ndc2fda[ndc2fda['fda_record']].shape[0])"
   ]
  },
  {
   "cell_type": "markdown",
   "id": "c88e1f74",
   "metadata": {},
   "source": [
    "##### Approach above is very slow due to large number of single queries executed, but brings ground truth! Code below shows optimization by adding more NDCs inside each query step."
   ]
  },
  {
   "cell_type": "code",
   "execution_count": 633,
   "id": "5cc92fb0",
   "metadata": {},
   "outputs": [],
   "source": [
    "unique_ndcs = pd.DataFrame(pat2drug['ndc_number_10'].unique(),columns=['ndc_10_pat'])"
   ]
  },
  {
   "cell_type": "code",
   "execution_count": 634,
   "id": "5af61e8d",
   "metadata": {},
   "outputs": [
    {
     "name": "stdout",
     "output_type": "stream",
     "text": [
      "0 500\n",
      "500 1000\n",
      "1000 1500\n",
      "1500 2000\n",
      "2000 2500\n",
      "2500 3000\n",
      "3000 3500\n",
      "3500 4000\n",
      "4000 4500\n",
      "4500 5000\n",
      "5000 5500\n",
      "5500 6000\n",
      "6000 6500\n",
      "6500 7000\n",
      "7000 7500\n",
      "7500 8000\n",
      "8000 8500\n",
      "8500 9000\n",
      "9000 9500\n",
      "9500 10000\n",
      "10000 10500\n",
      "10500 11000\n",
      "11000 11222\n"
     ]
    }
   ],
   "source": [
    "idx = list(range(0,unique_ndcs.shape[0],500))\n",
    "idx.append(unique_ndcs.shape[0])\n",
    "for i in range(0,len(idx)-1):\n",
    "    print(idx[i],idx[i+1])"
   ]
  },
  {
   "cell_type": "code",
   "execution_count": 645,
   "id": "67c4cc77",
   "metadata": {},
   "outputs": [],
   "source": [
    "base_url=\"https://api.fda.gov/drug/ndc.json\"\n",
    "\n",
    "ndc2fda2 = pd.DataFrame([],columns=['ndc_10_pat','ndc_10_fda'])\n",
    "for i in range(0,len(idx)-1):\n",
    "    search_url=\"?search=packaging.package_ndc:(\"+\"+OR+\".join(unique_ndcs['ndc_10_pat'][idx[i]:idx[i+1]])+\")&limit=1000\"\n",
    "    query = f'''{base_url}{search_url}'''\n",
    "    response = requests.get(query)\n",
    "    if (response.status_code==200):\n",
    "        fda_ndc = pd.DataFrame(\n",
    "            [pack['package_ndc'] for rec1 in response.json()['results'] for pack in rec1['packaging']],\n",
    "            columns=['ndc_10_fda'])\n",
    "        if (ndc2fda2.shape[0]<1):\n",
    "            ndc2fda2 = unique_ndcs[idx[i]:idx[i+1]].merge(\n",
    "                            fda_ndc,\n",
    "                            left_on=['ndc_10_pat'],\n",
    "                            right_on=['ndc_10_fda']\n",
    "                        ) #.drop_duplicates().sort_values(by='ndc_10_pat').reset_index(drop=True)\n",
    "        else:\n",
    "            ndc2fda2 = ndc2fda2.append(\n",
    "                unique_ndcs[idx[i]:idx[i+1]].merge(\n",
    "                    fda_ndc,\n",
    "                    left_on=['ndc_10_pat'],\n",
    "                    right_on=['ndc_10_fda']\n",
    "                ),\n",
    "                ignore_index=True #.drop_duplicates().sort_values(by='ndc_10_pat').reset_index(drop=True)\n",
    "            )\n",
    "            "
   ]
  },
  {
   "cell_type": "code",
   "execution_count": 647,
   "id": "3a26b906",
   "metadata": {},
   "outputs": [
    {
     "data": {
      "text/html": [
       "<div>\n",
       "<style scoped>\n",
       "    .dataframe tbody tr th:only-of-type {\n",
       "        vertical-align: middle;\n",
       "    }\n",
       "\n",
       "    .dataframe tbody tr th {\n",
       "        vertical-align: top;\n",
       "    }\n",
       "\n",
       "    .dataframe thead th {\n",
       "        text-align: right;\n",
       "    }\n",
       "</style>\n",
       "<table border=\"1\" class=\"dataframe\">\n",
       "  <thead>\n",
       "    <tr style=\"text-align: right;\">\n",
       "      <th></th>\n",
       "      <th>ndc_10_pat</th>\n",
       "      <th>ndc_10_fda</th>\n",
       "    </tr>\n",
       "  </thead>\n",
       "  <tbody>\n",
       "    <tr>\n",
       "      <th>0</th>\n",
       "      <td>0378-1805-10</td>\n",
       "      <td>0378-1805-10</td>\n",
       "    </tr>\n",
       "    <tr>\n",
       "      <th>1</th>\n",
       "      <td>64380-803-06</td>\n",
       "      <td>64380-803-06</td>\n",
       "    </tr>\n",
       "    <tr>\n",
       "      <th>2</th>\n",
       "      <td>0115-5522-02</td>\n",
       "      <td>0115-5522-02</td>\n",
       "    </tr>\n",
       "    <tr>\n",
       "      <th>3</th>\n",
       "      <td>0781-2790-01</td>\n",
       "      <td>0781-2790-01</td>\n",
       "    </tr>\n",
       "    <tr>\n",
       "      <th>4</th>\n",
       "      <td>68180-468-01</td>\n",
       "      <td>68180-468-01</td>\n",
       "    </tr>\n",
       "  </tbody>\n",
       "</table>\n",
       "</div>"
      ],
      "text/plain": [
       "     ndc_10_pat    ndc_10_fda\n",
       "0  0378-1805-10  0378-1805-10\n",
       "1  64380-803-06  64380-803-06\n",
       "2  0115-5522-02  0115-5522-02\n",
       "3  0781-2790-01  0781-2790-01\n",
       "4  68180-468-01  68180-468-01"
      ]
     },
     "metadata": {},
     "output_type": "display_data"
    },
    {
     "name": "stdout",
     "output_type": "stream",
     "text": [
      "8765\n"
     ]
    }
   ],
   "source": [
    "display(ndc2fda2.head(5))\n",
    "print(ndc2fda2.shape[0])"
   ]
  },
  {
   "cell_type": "code",
   "execution_count": 650,
   "id": "4f926116",
   "metadata": {},
   "outputs": [
    {
     "name": "stdout",
     "output_type": "stream",
     "text": [
      "The number of ndc numbers/drug packages that can't be found in FDA's database is 2457\n"
     ]
    }
   ],
   "source": [
    "print(f\"\"\"The number of ndc numbers/drug packages that can't be found in FDA's database is {unique_ndcs.shape[0]-ndc2fda2.shape[0]}\"\"\")"
   ]
  },
  {
   "cell_type": "markdown",
   "id": "545e7ea6",
   "metadata": {},
   "source": [
    "### 3. Which ten active ingredients are prescribed to most patients and how many patients have been prescribed each of them?"
   ]
  },
  {
   "cell_type": "code",
   "execution_count": 670,
   "id": "1c7027a3",
   "metadata": {},
   "outputs": [],
   "source": [
    "def ingre2ndc(json_dat):\n",
    "    df = pd.DataFrame(\n",
    "        [(ing['name'],pack['package_ndc']) for rec in json_dat['results'] if 'active_ingredients' in rec for ing,pack in zip(rec['active_ingredients'],rec['packaging']) ],\n",
    "        columns=['active_ingredient','ndc_10_fda']\n",
    "    )\n",
    "    return(df)"
   ]
  },
  {
   "cell_type": "code",
   "execution_count": 671,
   "id": "5cff9615",
   "metadata": {},
   "outputs": [],
   "source": [
    "base_url=\"https://api.fda.gov/drug/ndc.json\"\n",
    "\n",
    "actingre2ndc = pd.DataFrame([],columns=['ndc_10_pat','ndc_10_fda'])\n",
    "for i in range(0,len(idx)-1):\n",
    "    search_url=\"?search=packaging.package_ndc:(\"+\"+OR+\".join(unique_ndcs['ndc_10_pat'][idx[i]:idx[i+1]])+\")&limit=1000\"\n",
    "    query = f'''{base_url}{search_url}'''\n",
    "    response = requests.get(query)\n",
    "    if (response.status_code==200):\n",
    "        fda_ndc = ingre2ndc(response.json())\n",
    "        if (ndc2fda2.shape[0]<1):\n",
    "            actingre2ndc = unique_ndcs[idx[i]:idx[i+1]].merge(\n",
    "                            fda_ndc,\n",
    "                            left_on=['ndc_10_pat'],\n",
    "                            right_on=['ndc_10_fda']\n",
    "                        ) #.drop_duplicates().sort_values(by='ndc_10_pat').reset_index(drop=True)\n",
    "        else:\n",
    "            actingre2ndc = actingre2ndc.append(\n",
    "                unique_ndcs[idx[i]:idx[i+1]].merge(\n",
    "                    fda_ndc,\n",
    "                    left_on=['ndc_10_pat'],\n",
    "                    right_on=['ndc_10_fda']\n",
    "                ),\n",
    "                ignore_index=True #.drop_duplicates().sort_values(by='ndc_10_pat').reset_index(drop=True)\n",
    "            )\n",
    "            "
   ]
  },
  {
   "cell_type": "code",
   "execution_count": 672,
   "id": "9eb22e7e",
   "metadata": {},
   "outputs": [
    {
     "data": {
      "text/html": [
       "<div>\n",
       "<style scoped>\n",
       "    .dataframe tbody tr th:only-of-type {\n",
       "        vertical-align: middle;\n",
       "    }\n",
       "\n",
       "    .dataframe tbody tr th {\n",
       "        vertical-align: top;\n",
       "    }\n",
       "\n",
       "    .dataframe thead th {\n",
       "        text-align: right;\n",
       "    }\n",
       "</style>\n",
       "<table border=\"1\" class=\"dataframe\">\n",
       "  <thead>\n",
       "    <tr style=\"text-align: right;\">\n",
       "      <th></th>\n",
       "      <th>ndc_10_pat</th>\n",
       "      <th>ndc_10_fda</th>\n",
       "      <th>active_ingredient</th>\n",
       "    </tr>\n",
       "  </thead>\n",
       "  <tbody>\n",
       "    <tr>\n",
       "      <th>0</th>\n",
       "      <td>0378-1805-10</td>\n",
       "      <td>0378-1805-10</td>\n",
       "      <td>LEVOTHYROXINE SODIUM</td>\n",
       "    </tr>\n",
       "    <tr>\n",
       "      <th>1</th>\n",
       "      <td>0781-2790-01</td>\n",
       "      <td>0781-2790-01</td>\n",
       "      <td>OMEPRAZOLE</td>\n",
       "    </tr>\n",
       "    <tr>\n",
       "      <th>2</th>\n",
       "      <td>68180-468-01</td>\n",
       "      <td>68180-468-01</td>\n",
       "      <td>LOVASTATIN</td>\n",
       "    </tr>\n",
       "    <tr>\n",
       "      <th>3</th>\n",
       "      <td>68382-760-01</td>\n",
       "      <td>68382-760-01</td>\n",
       "      <td>METFORMIN HYDROCHLORIDE</td>\n",
       "    </tr>\n",
       "    <tr>\n",
       "      <th>4</th>\n",
       "      <td>57237-233-05</td>\n",
       "      <td>57237-233-05</td>\n",
       "      <td>TRIMETHOPRIM</td>\n",
       "    </tr>\n",
       "  </tbody>\n",
       "</table>\n",
       "</div>"
      ],
      "text/plain": [
       "     ndc_10_pat    ndc_10_fda        active_ingredient\n",
       "0  0378-1805-10  0378-1805-10     LEVOTHYROXINE SODIUM\n",
       "1  0781-2790-01  0781-2790-01               OMEPRAZOLE\n",
       "2  68180-468-01  68180-468-01               LOVASTATIN\n",
       "3  68382-760-01  68382-760-01  METFORMIN HYDROCHLORIDE\n",
       "4  57237-233-05  57237-233-05             TRIMETHOPRIM"
      ]
     },
     "metadata": {},
     "output_type": "display_data"
    },
    {
     "name": "stdout",
     "output_type": "stream",
     "text": [
      "4938\n"
     ]
    }
   ],
   "source": [
    "display(actingre2ndc.head(5))\n",
    "print(actingre2ndc.shape[0])"
   ]
  },
  {
   "cell_type": "code",
   "execution_count": 690,
   "id": "01489c30",
   "metadata": {},
   "outputs": [],
   "source": [
    "top10=[i[0] for i in list(pat2drug.merge(\n",
    "    actingre2ndc,\n",
    "    left_on=['ndc_number_10'],\n",
    "    right_on=['ndc_10_pat']\n",
    ")[['active_ingredient']].value_counts().sort_values(ascending=False)[0:10].index)]"
   ]
  },
  {
   "cell_type": "code",
   "execution_count": 695,
   "id": "7ccd61fb",
   "metadata": {},
   "outputs": [],
   "source": [
    "pat2ingr = pat2drug.merge(\n",
    "    actingre2ndc,\n",
    "    left_on=['ndc_number_10'],\n",
    "    right_on=['ndc_10_pat']\n",
    ")[['patient_id','active_ingredient']]"
   ]
  },
  {
   "cell_type": "code",
   "execution_count": 712,
   "id": "aa736a83",
   "metadata": {},
   "outputs": [
    {
     "data": {
      "text/html": [
       "<div>\n",
       "<style scoped>\n",
       "    .dataframe tbody tr th:only-of-type {\n",
       "        vertical-align: middle;\n",
       "    }\n",
       "\n",
       "    .dataframe tbody tr th {\n",
       "        vertical-align: top;\n",
       "    }\n",
       "\n",
       "    .dataframe thead th {\n",
       "        text-align: right;\n",
       "    }\n",
       "</style>\n",
       "<table border=\"1\" class=\"dataframe\">\n",
       "  <thead>\n",
       "    <tr style=\"text-align: right;\">\n",
       "      <th></th>\n",
       "      <th>patient_id</th>\n",
       "      <th>active_ingredient</th>\n",
       "    </tr>\n",
       "  </thead>\n",
       "  <tbody>\n",
       "    <tr>\n",
       "      <th>0</th>\n",
       "      <td>1</td>\n",
       "      <td>LEVOTHYROXINE SODIUM</td>\n",
       "    </tr>\n",
       "    <tr>\n",
       "      <th>1</th>\n",
       "      <td>69</td>\n",
       "      <td>LEVOTHYROXINE SODIUM</td>\n",
       "    </tr>\n",
       "    <tr>\n",
       "      <th>2</th>\n",
       "      <td>246</td>\n",
       "      <td>LEVOTHYROXINE SODIUM</td>\n",
       "    </tr>\n",
       "    <tr>\n",
       "      <th>3</th>\n",
       "      <td>266</td>\n",
       "      <td>LEVOTHYROXINE SODIUM</td>\n",
       "    </tr>\n",
       "    <tr>\n",
       "      <th>4</th>\n",
       "      <td>297</td>\n",
       "      <td>LEVOTHYROXINE SODIUM</td>\n",
       "    </tr>\n",
       "  </tbody>\n",
       "</table>\n",
       "</div>"
      ],
      "text/plain": [
       "   patient_id     active_ingredient\n",
       "0           1  LEVOTHYROXINE SODIUM\n",
       "1          69  LEVOTHYROXINE SODIUM\n",
       "2         246  LEVOTHYROXINE SODIUM\n",
       "3         266  LEVOTHYROXINE SODIUM\n",
       "4         297  LEVOTHYROXINE SODIUM"
      ]
     },
     "metadata": {},
     "output_type": "display_data"
    }
   ],
   "source": [
    "display(pat2ingr.head(5))"
   ]
  },
  {
   "cell_type": "code",
   "execution_count": 691,
   "id": "d7aac43f",
   "metadata": {},
   "outputs": [
    {
     "name": "stdout",
     "output_type": "stream",
     "text": [
      "The ten active ingredients prescribed to most patients are ['AMLODIPINE BESYLATE', 'ACETAMINOPHEN', 'AMOXICILLIN', 'LEVOTHYROXINE SODIUM', 'ALBUTEROL SULFATE', 'CIPROFLOXACIN HYDROCHLORIDE', 'FLUTICASONE PROPIONATE', 'APIXABAN', 'HYDROCHLOROTHIAZIDE', 'LISINOPRIL']\n"
     ]
    }
   ],
   "source": [
    "print(f\"\"\"The ten active ingredients prescribed to most patients are {top10}\"\"\")"
   ]
  },
  {
   "cell_type": "code",
   "execution_count": 726,
   "id": "f13641cd",
   "metadata": {},
   "outputs": [
    {
     "data": {
      "text/plain": [
       "AMLODIPINE BESYLATE            2657\n",
       "ACETAMINOPHEN                  2318\n",
       "AMOXICILLIN                    2272\n",
       "LEVOTHYROXINE SODIUM           2202\n",
       "ALBUTEROL SULFATE              2027\n",
       "CIPROFLOXACIN HYDROCHLORIDE    1794\n",
       "FLUTICASONE PROPIONATE         1665\n",
       "APIXABAN                       1542\n",
       "HYDROCHLOROTHIAZIDE            1463\n",
       "LISINOPRIL                     1339\n",
       "Name: active_ingredient, dtype: int64"
      ]
     },
     "execution_count": 726,
     "metadata": {},
     "output_type": "execute_result"
    }
   ],
   "source": [
    "# The table below shows how many times each one of the top 10 ingredients has been prescribed:\n",
    "pat2ingr['active_ingredient'][pat2ingr['active_ingredient'].isin(top10)].value_counts().sort_values(ascending=False)"
   ]
  },
  {
   "cell_type": "markdown",
   "id": "779b4c5f",
   "metadata": {},
   "source": [
    "### 4. Which ten drugs that are not found in FDA's database are prescribed to highest number of patients, and how many patients have been prescribed each of them?"
   ]
  },
  {
   "cell_type": "code",
   "execution_count": null,
   "id": "7ae501eb",
   "metadata": {},
   "outputs": [],
   "source": []
  }
 ],
 "metadata": {
  "kernelspec": {
   "display_name": "Python 3 (ipykernel)",
   "language": "python",
   "name": "python3"
  },
  "language_info": {
   "codemirror_mode": {
    "name": "ipython",
    "version": 3
   },
   "file_extension": ".py",
   "mimetype": "text/x-python",
   "name": "python",
   "nbconvert_exporter": "python",
   "pygments_lexer": "ipython3",
   "version": "3.7.11"
  }
 },
 "nbformat": 4,
 "nbformat_minor": 5
}
